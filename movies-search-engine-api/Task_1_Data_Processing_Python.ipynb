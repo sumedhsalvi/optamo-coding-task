{
 "cells": [
  {
   "cell_type": "code",
   "execution_count": 1,
   "metadata": {
    "scrolled": true
   },
   "outputs": [
    {
     "name": "stderr",
     "output_type": "stream",
     "text": [
      "C:\\Users\\Acer\\Anaconda3\\lib\\site-packages\\pandas\\compat\\_optional.py:138: UserWarning: Pandas requires version '2.7.0' or newer of 'numexpr' (version '2.6.9' currently installed).\n",
      "  warnings.warn(msg, UserWarning)\n"
     ]
    },
    {
     "data": {
      "text/html": [
       "<div>\n",
       "<style scoped>\n",
       "    .dataframe tbody tr th:only-of-type {\n",
       "        vertical-align: middle;\n",
       "    }\n",
       "\n",
       "    .dataframe tbody tr th {\n",
       "        vertical-align: top;\n",
       "    }\n",
       "\n",
       "    .dataframe thead th {\n",
       "        text-align: right;\n",
       "    }\n",
       "</style>\n",
       "<table border=\"1\" class=\"dataframe\">\n",
       "  <thead>\n",
       "    <tr style=\"text-align: right;\">\n",
       "      <th></th>\n",
       "      <th>Unnamed: 0</th>\n",
       "      <th>User_Id</th>\n",
       "      <th>Movie_Name</th>\n",
       "      <th>Rating</th>\n",
       "      <th>Genre</th>\n",
       "    </tr>\n",
       "  </thead>\n",
       "  <tbody>\n",
       "    <tr>\n",
       "      <th>0</th>\n",
       "      <td>0</td>\n",
       "      <td>1</td>\n",
       "      <td>Pulp Fiction (1994)</td>\n",
       "      <td>5.0</td>\n",
       "      <td>Comedy|Crime|Drama|Thriller</td>\n",
       "    </tr>\n",
       "    <tr>\n",
       "      <th>1</th>\n",
       "      <td>1</td>\n",
       "      <td>1</td>\n",
       "      <td>Three Colors: Red (Trois couleurs: Rouge) (1994)</td>\n",
       "      <td>3.5</td>\n",
       "      <td>Drama</td>\n",
       "    </tr>\n",
       "    <tr>\n",
       "      <th>2</th>\n",
       "      <td>2</td>\n",
       "      <td>1</td>\n",
       "      <td>Three Colors: Blue (Trois couleurs: Bleu) (1993)</td>\n",
       "      <td>5.0</td>\n",
       "      <td>Drama</td>\n",
       "    </tr>\n",
       "    <tr>\n",
       "      <th>3</th>\n",
       "      <td>3</td>\n",
       "      <td>1</td>\n",
       "      <td>Underground (1995)</td>\n",
       "      <td>5.0</td>\n",
       "      <td>Comedy|Drama|War</td>\n",
       "    </tr>\n",
       "    <tr>\n",
       "      <th>4</th>\n",
       "      <td>4</td>\n",
       "      <td>1</td>\n",
       "      <td>Singin' in the Rain (1952)</td>\n",
       "      <td>3.5</td>\n",
       "      <td>Comedy|Musical|Romance</td>\n",
       "    </tr>\n",
       "  </tbody>\n",
       "</table>\n",
       "</div>"
      ],
      "text/plain": [
       "   Unnamed: 0  User_Id                                        Movie_Name  \\\n",
       "0           0        1                               Pulp Fiction (1994)   \n",
       "1           1        1  Three Colors: Red (Trois couleurs: Rouge) (1994)   \n",
       "2           2        1  Three Colors: Blue (Trois couleurs: Bleu) (1993)   \n",
       "3           3        1                                Underground (1995)   \n",
       "4           4        1                        Singin' in the Rain (1952)   \n",
       "\n",
       "   Rating                        Genre  \n",
       "0     5.0  Comedy|Crime|Drama|Thriller  \n",
       "1     3.5                        Drama  \n",
       "2     5.0                        Drama  \n",
       "3     5.0             Comedy|Drama|War  \n",
       "4     3.5       Comedy|Musical|Romance  "
      ]
     },
     "execution_count": 1,
     "metadata": {},
     "output_type": "execute_result"
    }
   ],
   "source": [
    "import numpy as np\n",
    "import pandas as pd\n",
    "\n",
    "data=pd.read_csv(\"movies_dataset.csv\")\n",
    "data.head()\n",
    "#data.shape"
   ]
  },
  {
   "cell_type": "code",
   "execution_count": 2,
   "metadata": {},
   "outputs": [
    {
     "data": {
      "text/plain": [
       "(25000095, 5)"
      ]
     },
     "execution_count": 2,
     "metadata": {},
     "output_type": "execute_result"
    }
   ],
   "source": [
    "data.shape"
   ]
  },
  {
   "cell_type": "code",
   "execution_count": 3,
   "metadata": {
    "scrolled": true
   },
   "outputs": [
    {
     "data": {
      "text/plain": [
       "Forrest Gump (1994)                 81491\n",
       "Shawshank Redemption, The (1994)    81482\n",
       "Pulp Fiction (1994)                 79672\n",
       "Silence of the Lambs, The (1991)    74127\n",
       "Matrix, The (1999)                  72674\n",
       "                                    ...  \n",
       "Night Into Morning (1951)               1\n",
       "Flirting with Fate (1916)               1\n",
       "Cheerful Wind (1981)                    1\n",
       "The Cuckoo Clock (1938)                 1\n",
       "Il pesce innamorato (1999)              1\n",
       "Name: Movie_Name, Length: 58958, dtype: int64"
      ]
     },
     "execution_count": 3,
     "metadata": {},
     "output_type": "execute_result"
    }
   ],
   "source": [
    "data['Movie_Name'].value_counts()"
   ]
  },
  {
   "cell_type": "markdown",
   "metadata": {},
   "source": [
    "### 1.  Atleast 1000 reviews"
   ]
  },
  {
   "cell_type": "code",
   "execution_count": 4,
   "metadata": {},
   "outputs": [
    {
     "data": {
      "text/html": [
       "<div>\n",
       "<style scoped>\n",
       "    .dataframe tbody tr th:only-of-type {\n",
       "        vertical-align: middle;\n",
       "    }\n",
       "\n",
       "    .dataframe tbody tr th {\n",
       "        vertical-align: top;\n",
       "    }\n",
       "\n",
       "    .dataframe thead th {\n",
       "        text-align: right;\n",
       "    }\n",
       "</style>\n",
       "<table border=\"1\" class=\"dataframe\">\n",
       "  <thead>\n",
       "    <tr style=\"text-align: right;\">\n",
       "      <th></th>\n",
       "      <th>Unnamed: 0</th>\n",
       "      <th>User_Id</th>\n",
       "      <th>Movie_Name</th>\n",
       "      <th>Rating</th>\n",
       "      <th>Genre</th>\n",
       "    </tr>\n",
       "  </thead>\n",
       "  <tbody>\n",
       "    <tr>\n",
       "      <th>0</th>\n",
       "      <td>0</td>\n",
       "      <td>1</td>\n",
       "      <td>Pulp Fiction (1994)</td>\n",
       "      <td>5.0</td>\n",
       "      <td>Comedy|Crime|Drama|Thriller</td>\n",
       "    </tr>\n",
       "    <tr>\n",
       "      <th>1</th>\n",
       "      <td>1</td>\n",
       "      <td>1</td>\n",
       "      <td>Three Colors: Red (Trois couleurs: Rouge) (1994)</td>\n",
       "      <td>3.5</td>\n",
       "      <td>Drama</td>\n",
       "    </tr>\n",
       "    <tr>\n",
       "      <th>2</th>\n",
       "      <td>2</td>\n",
       "      <td>1</td>\n",
       "      <td>Three Colors: Blue (Trois couleurs: Bleu) (1993)</td>\n",
       "      <td>5.0</td>\n",
       "      <td>Drama</td>\n",
       "    </tr>\n",
       "    <tr>\n",
       "      <th>3</th>\n",
       "      <td>3</td>\n",
       "      <td>1</td>\n",
       "      <td>Underground (1995)</td>\n",
       "      <td>5.0</td>\n",
       "      <td>Comedy|Drama|War</td>\n",
       "    </tr>\n",
       "    <tr>\n",
       "      <th>4</th>\n",
       "      <td>4</td>\n",
       "      <td>1</td>\n",
       "      <td>Singin' in the Rain (1952)</td>\n",
       "      <td>3.5</td>\n",
       "      <td>Comedy|Musical|Romance</td>\n",
       "    </tr>\n",
       "  </tbody>\n",
       "</table>\n",
       "</div>"
      ],
      "text/plain": [
       "   Unnamed: 0  User_Id                                        Movie_Name  \\\n",
       "0           0        1                               Pulp Fiction (1994)   \n",
       "1           1        1  Three Colors: Red (Trois couleurs: Rouge) (1994)   \n",
       "2           2        1  Three Colors: Blue (Trois couleurs: Bleu) (1993)   \n",
       "3           3        1                                Underground (1995)   \n",
       "4           4        1                        Singin' in the Rain (1952)   \n",
       "\n",
       "   Rating                        Genre  \n",
       "0     5.0  Comedy|Crime|Drama|Thriller  \n",
       "1     3.5                        Drama  \n",
       "2     5.0                        Drama  \n",
       "3     5.0             Comedy|Drama|War  \n",
       "4     3.5       Comedy|Musical|Romance  "
      ]
     },
     "execution_count": 4,
     "metadata": {},
     "output_type": "execute_result"
    }
   ],
   "source": [
    "rating1000 = data.groupby('Movie_Name').filter(lambda x: x['Rating'].count() >= 1000)\n",
    "rating1000.head()"
   ]
  },
  {
   "cell_type": "code",
   "execution_count": 5,
   "metadata": {},
   "outputs": [
    {
     "data": {
      "text/plain": [
       "(22142587, 5)"
      ]
     },
     "execution_count": 5,
     "metadata": {},
     "output_type": "execute_result"
    }
   ],
   "source": [
    "rating1000.shape"
   ]
  },
  {
   "cell_type": "code",
   "execution_count": 6,
   "metadata": {},
   "outputs": [
    {
     "data": {
      "text/plain": [
       "Forrest Gump (1994)                 81491\n",
       "Shawshank Redemption, The (1994)    81482\n",
       "Pulp Fiction (1994)                 79672\n",
       "Silence of the Lambs, The (1991)    74127\n",
       "Matrix, The (1999)                  72674\n",
       "                                    ...  \n",
       "Pet Sematary II (1992)               1001\n",
       "Stakeout (1987)                      1000\n",
       "Darkest Hour (2017)                  1000\n",
       "Black Mass (2015)                    1000\n",
       "Farinelli: il castrato (1994)        1000\n",
       "Name: Movie_Name, Length: 3794, dtype: int64"
      ]
     },
     "execution_count": 6,
     "metadata": {},
     "output_type": "execute_result"
    }
   ],
   "source": [
    "rating1000['Movie_Name'].value_counts()"
   ]
  },
  {
   "cell_type": "code",
   "execution_count": 7,
   "metadata": {},
   "outputs": [
    {
     "data": {
      "text/plain": [
       "Unnamed: 0    0\n",
       "User_Id       0\n",
       "Movie_Name    0\n",
       "Rating        0\n",
       "Genre         0\n",
       "dtype: int64"
      ]
     },
     "execution_count": 7,
     "metadata": {},
     "output_type": "execute_result"
    }
   ],
   "source": [
    "rating1000.isnull().sum(axis = 0)"
   ]
  },
  {
   "cell_type": "markdown",
   "metadata": {},
   "source": [
    "### 2. Has average rating of 4 or more"
   ]
  },
  {
   "cell_type": "code",
   "execution_count": 8,
   "metadata": {},
   "outputs": [],
   "source": [
    "avgrtg = rating1000.groupby('Movie_Name', as_index=False).Rating.mean()"
   ]
  },
  {
   "cell_type": "code",
   "execution_count": 9,
   "metadata": {},
   "outputs": [
    {
     "data": {
      "text/html": [
       "<div>\n",
       "<style scoped>\n",
       "    .dataframe tbody tr th:only-of-type {\n",
       "        vertical-align: middle;\n",
       "    }\n",
       "\n",
       "    .dataframe tbody tr th {\n",
       "        vertical-align: top;\n",
       "    }\n",
       "\n",
       "    .dataframe thead th {\n",
       "        text-align: right;\n",
       "    }\n",
       "</style>\n",
       "<table border=\"1\" class=\"dataframe\">\n",
       "  <thead>\n",
       "    <tr style=\"text-align: right;\">\n",
       "      <th></th>\n",
       "      <th>Unnamed: 0</th>\n",
       "      <th>User_Id</th>\n",
       "      <th>Movie_Name</th>\n",
       "      <th>Rating_x</th>\n",
       "      <th>Genre</th>\n",
       "      <th>Rating_y</th>\n",
       "    </tr>\n",
       "  </thead>\n",
       "  <tbody>\n",
       "    <tr>\n",
       "      <th>0</th>\n",
       "      <td>0</td>\n",
       "      <td>1</td>\n",
       "      <td>Pulp Fiction (1994)</td>\n",
       "      <td>5.0</td>\n",
       "      <td>Comedy|Crime|Drama|Thriller</td>\n",
       "      <td>4.188912</td>\n",
       "    </tr>\n",
       "    <tr>\n",
       "      <th>1</th>\n",
       "      <td>1</td>\n",
       "      <td>1</td>\n",
       "      <td>Three Colors: Red (Trois couleurs: Rouge) (1994)</td>\n",
       "      <td>3.5</td>\n",
       "      <td>Drama</td>\n",
       "      <td>4.072967</td>\n",
       "    </tr>\n",
       "    <tr>\n",
       "      <th>2</th>\n",
       "      <td>2</td>\n",
       "      <td>1</td>\n",
       "      <td>Three Colors: Blue (Trois couleurs: Bleu) (1993)</td>\n",
       "      <td>5.0</td>\n",
       "      <td>Drama</td>\n",
       "      <td>3.981409</td>\n",
       "    </tr>\n",
       "    <tr>\n",
       "      <th>3</th>\n",
       "      <td>3</td>\n",
       "      <td>1</td>\n",
       "      <td>Underground (1995)</td>\n",
       "      <td>5.0</td>\n",
       "      <td>Comedy|Drama|War</td>\n",
       "      <td>3.946020</td>\n",
       "    </tr>\n",
       "    <tr>\n",
       "      <th>4</th>\n",
       "      <td>4</td>\n",
       "      <td>1</td>\n",
       "      <td>Singin' in the Rain (1952)</td>\n",
       "      <td>3.5</td>\n",
       "      <td>Comedy|Musical|Romance</td>\n",
       "      <td>4.050987</td>\n",
       "    </tr>\n",
       "  </tbody>\n",
       "</table>\n",
       "</div>"
      ],
      "text/plain": [
       "   Unnamed: 0  User_Id                                        Movie_Name  \\\n",
       "0           0        1                               Pulp Fiction (1994)   \n",
       "1           1        1  Three Colors: Red (Trois couleurs: Rouge) (1994)   \n",
       "2           2        1  Three Colors: Blue (Trois couleurs: Bleu) (1993)   \n",
       "3           3        1                                Underground (1995)   \n",
       "4           4        1                        Singin' in the Rain (1952)   \n",
       "\n",
       "   Rating_x                        Genre  Rating_y  \n",
       "0       5.0  Comedy|Crime|Drama|Thriller  4.188912  \n",
       "1       3.5                        Drama  4.072967  \n",
       "2       5.0                        Drama  3.981409  \n",
       "3       5.0             Comedy|Drama|War  3.946020  \n",
       "4       3.5       Comedy|Musical|Romance  4.050987  "
      ]
     },
     "execution_count": 9,
     "metadata": {},
     "output_type": "execute_result"
    }
   ],
   "source": [
    "rating1000 = rating1000.merge(avgrtg, on='Movie_Name', how='left')\n",
    "rating1000.head()"
   ]
  },
  {
   "cell_type": "code",
   "execution_count": 10,
   "metadata": {},
   "outputs": [
    {
     "data": {
      "text/html": [
       "<div>\n",
       "<style scoped>\n",
       "    .dataframe tbody tr th:only-of-type {\n",
       "        vertical-align: middle;\n",
       "    }\n",
       "\n",
       "    .dataframe tbody tr th {\n",
       "        vertical-align: top;\n",
       "    }\n",
       "\n",
       "    .dataframe thead th {\n",
       "        text-align: right;\n",
       "    }\n",
       "</style>\n",
       "<table border=\"1\" class=\"dataframe\">\n",
       "  <thead>\n",
       "    <tr style=\"text-align: right;\">\n",
       "      <th></th>\n",
       "      <th>Unnamed: 0</th>\n",
       "      <th>User_Id</th>\n",
       "      <th>Movie_Name</th>\n",
       "      <th>Genre</th>\n",
       "      <th>Rating_y</th>\n",
       "    </tr>\n",
       "  </thead>\n",
       "  <tbody>\n",
       "    <tr>\n",
       "      <th>0</th>\n",
       "      <td>0</td>\n",
       "      <td>1</td>\n",
       "      <td>Pulp Fiction (1994)</td>\n",
       "      <td>Comedy|Crime|Drama|Thriller</td>\n",
       "      <td>4.188912</td>\n",
       "    </tr>\n",
       "    <tr>\n",
       "      <th>1</th>\n",
       "      <td>1</td>\n",
       "      <td>1</td>\n",
       "      <td>Three Colors: Red (Trois couleurs: Rouge) (1994)</td>\n",
       "      <td>Drama</td>\n",
       "      <td>4.072967</td>\n",
       "    </tr>\n",
       "    <tr>\n",
       "      <th>2</th>\n",
       "      <td>2</td>\n",
       "      <td>1</td>\n",
       "      <td>Three Colors: Blue (Trois couleurs: Bleu) (1993)</td>\n",
       "      <td>Drama</td>\n",
       "      <td>3.981409</td>\n",
       "    </tr>\n",
       "    <tr>\n",
       "      <th>3</th>\n",
       "      <td>3</td>\n",
       "      <td>1</td>\n",
       "      <td>Underground (1995)</td>\n",
       "      <td>Comedy|Drama|War</td>\n",
       "      <td>3.946020</td>\n",
       "    </tr>\n",
       "    <tr>\n",
       "      <th>4</th>\n",
       "      <td>4</td>\n",
       "      <td>1</td>\n",
       "      <td>Singin' in the Rain (1952)</td>\n",
       "      <td>Comedy|Musical|Romance</td>\n",
       "      <td>4.050987</td>\n",
       "    </tr>\n",
       "  </tbody>\n",
       "</table>\n",
       "</div>"
      ],
      "text/plain": [
       "   Unnamed: 0  User_Id                                        Movie_Name  \\\n",
       "0           0        1                               Pulp Fiction (1994)   \n",
       "1           1        1  Three Colors: Red (Trois couleurs: Rouge) (1994)   \n",
       "2           2        1  Three Colors: Blue (Trois couleurs: Bleu) (1993)   \n",
       "3           3        1                                Underground (1995)   \n",
       "4           4        1                        Singin' in the Rain (1952)   \n",
       "\n",
       "                         Genre  Rating_y  \n",
       "0  Comedy|Crime|Drama|Thriller  4.188912  \n",
       "1                        Drama  4.072967  \n",
       "2                        Drama  3.981409  \n",
       "3             Comedy|Drama|War  3.946020  \n",
       "4       Comedy|Musical|Romance  4.050987  "
      ]
     },
     "execution_count": 10,
     "metadata": {},
     "output_type": "execute_result"
    }
   ],
   "source": [
    "del rating1000['Rating_x']\n",
    "rating1000.head()"
   ]
  },
  {
   "cell_type": "code",
   "execution_count": 11,
   "metadata": {
    "scrolled": true
   },
   "outputs": [
    {
     "data": {
      "text/html": [
       "<div>\n",
       "<style scoped>\n",
       "    .dataframe tbody tr th:only-of-type {\n",
       "        vertical-align: middle;\n",
       "    }\n",
       "\n",
       "    .dataframe tbody tr th {\n",
       "        vertical-align: top;\n",
       "    }\n",
       "\n",
       "    .dataframe thead th {\n",
       "        text-align: right;\n",
       "    }\n",
       "</style>\n",
       "<table border=\"1\" class=\"dataframe\">\n",
       "  <thead>\n",
       "    <tr style=\"text-align: right;\">\n",
       "      <th></th>\n",
       "      <th>Unnamed: 0</th>\n",
       "      <th>User_Id</th>\n",
       "      <th>Movie_Name</th>\n",
       "      <th>Genre</th>\n",
       "      <th>average_rating</th>\n",
       "    </tr>\n",
       "  </thead>\n",
       "  <tbody>\n",
       "    <tr>\n",
       "      <th>0</th>\n",
       "      <td>0</td>\n",
       "      <td>1</td>\n",
       "      <td>Pulp Fiction (1994)</td>\n",
       "      <td>Comedy|Crime|Drama|Thriller</td>\n",
       "      <td>4.188912</td>\n",
       "    </tr>\n",
       "    <tr>\n",
       "      <th>1</th>\n",
       "      <td>1</td>\n",
       "      <td>1</td>\n",
       "      <td>Three Colors: Red (Trois couleurs: Rouge) (1994)</td>\n",
       "      <td>Drama</td>\n",
       "      <td>4.072967</td>\n",
       "    </tr>\n",
       "    <tr>\n",
       "      <th>2</th>\n",
       "      <td>2</td>\n",
       "      <td>1</td>\n",
       "      <td>Three Colors: Blue (Trois couleurs: Bleu) (1993)</td>\n",
       "      <td>Drama</td>\n",
       "      <td>3.981409</td>\n",
       "    </tr>\n",
       "    <tr>\n",
       "      <th>3</th>\n",
       "      <td>3</td>\n",
       "      <td>1</td>\n",
       "      <td>Underground (1995)</td>\n",
       "      <td>Comedy|Drama|War</td>\n",
       "      <td>3.946020</td>\n",
       "    </tr>\n",
       "    <tr>\n",
       "      <th>4</th>\n",
       "      <td>4</td>\n",
       "      <td>1</td>\n",
       "      <td>Singin' in the Rain (1952)</td>\n",
       "      <td>Comedy|Musical|Romance</td>\n",
       "      <td>4.050987</td>\n",
       "    </tr>\n",
       "  </tbody>\n",
       "</table>\n",
       "</div>"
      ],
      "text/plain": [
       "   Unnamed: 0  User_Id                                        Movie_Name  \\\n",
       "0           0        1                               Pulp Fiction (1994)   \n",
       "1           1        1  Three Colors: Red (Trois couleurs: Rouge) (1994)   \n",
       "2           2        1  Three Colors: Blue (Trois couleurs: Bleu) (1993)   \n",
       "3           3        1                                Underground (1995)   \n",
       "4           4        1                        Singin' in the Rain (1952)   \n",
       "\n",
       "                         Genre  average_rating  \n",
       "0  Comedy|Crime|Drama|Thriller        4.188912  \n",
       "1                        Drama        4.072967  \n",
       "2                        Drama        3.981409  \n",
       "3             Comedy|Drama|War        3.946020  \n",
       "4       Comedy|Musical|Romance        4.050987  "
      ]
     },
     "execution_count": 11,
     "metadata": {},
     "output_type": "execute_result"
    }
   ],
   "source": [
    "rating1000=rating1000.rename(columns={'Rating_y': 'average_rating'})\n",
    "rating1000.head()"
   ]
  },
  {
   "cell_type": "code",
   "execution_count": 12,
   "metadata": {},
   "outputs": [
    {
     "data": {
      "text/plain": [
       "(3511479, 5)"
      ]
     },
     "execution_count": 12,
     "metadata": {},
     "output_type": "execute_result"
    }
   ],
   "source": [
    "high_rating_movies = rating1000[rating1000['average_rating'] >= 4.0]\n",
    "high_rating_movies.shape"
   ]
  },
  {
   "cell_type": "code",
   "execution_count": 13,
   "metadata": {},
   "outputs": [
    {
     "data": {
      "text/plain": [
       "count    3.511479e+06\n",
       "mean     4.118631e+00\n",
       "std      8.632424e-02\n",
       "min      4.000589e+00\n",
       "25%      4.052931e+00\n",
       "50%      4.107340e+00\n",
       "75%      4.154099e+00\n",
       "max      4.483096e+00\n",
       "Name: average_rating, dtype: float64"
      ]
     },
     "execution_count": 13,
     "metadata": {},
     "output_type": "execute_result"
    }
   ],
   "source": [
    "high_rating_movies['average_rating'].describe()"
   ]
  },
  {
   "cell_type": "markdown",
   "metadata": {},
   "source": [
    "### 3. Release year is later than 2000"
   ]
  },
  {
   "cell_type": "code",
   "execution_count": 14,
   "metadata": {},
   "outputs": [
    {
     "name": "stderr",
     "output_type": "stream",
     "text": [
      "C:\\Users\\Acer\\Anaconda3\\lib\\site-packages\\ipykernel_launcher.py:1: SettingWithCopyWarning: \n",
      "A value is trying to be set on a copy of a slice from a DataFrame.\n",
      "Try using .loc[row_indexer,col_indexer] = value instead\n",
      "\n",
      "See the caveats in the documentation: https://pandas.pydata.org/pandas-docs/stable/user_guide/indexing.html#returning-a-view-versus-a-copy\n",
      "  \"\"\"Entry point for launching an IPython kernel.\n",
      "C:\\Users\\Acer\\Anaconda3\\lib\\site-packages\\ipykernel_launcher.py:2: SettingWithCopyWarning: \n",
      "A value is trying to be set on a copy of a slice from a DataFrame.\n",
      "Try using .loc[row_indexer,col_indexer] = value instead\n",
      "\n",
      "See the caveats in the documentation: https://pandas.pydata.org/pandas-docs/stable/user_guide/indexing.html#returning-a-view-versus-a-copy\n",
      "  \n"
     ]
    },
    {
     "data": {
      "text/html": [
       "<div>\n",
       "<style scoped>\n",
       "    .dataframe tbody tr th:only-of-type {\n",
       "        vertical-align: middle;\n",
       "    }\n",
       "\n",
       "    .dataframe tbody tr th {\n",
       "        vertical-align: top;\n",
       "    }\n",
       "\n",
       "    .dataframe thead th {\n",
       "        text-align: right;\n",
       "    }\n",
       "</style>\n",
       "<table border=\"1\" class=\"dataframe\">\n",
       "  <thead>\n",
       "    <tr style=\"text-align: right;\">\n",
       "      <th></th>\n",
       "      <th>Unnamed: 0</th>\n",
       "      <th>User_Id</th>\n",
       "      <th>Movie_Name</th>\n",
       "      <th>Genre</th>\n",
       "      <th>average_rating</th>\n",
       "      <th>year</th>\n",
       "    </tr>\n",
       "  </thead>\n",
       "  <tbody>\n",
       "    <tr>\n",
       "      <th>0</th>\n",
       "      <td>0</td>\n",
       "      <td>1</td>\n",
       "      <td>Pulp Fiction</td>\n",
       "      <td>Comedy|Crime|Drama|Thriller</td>\n",
       "      <td>4.188912</td>\n",
       "      <td>1994</td>\n",
       "    </tr>\n",
       "    <tr>\n",
       "      <th>1</th>\n",
       "      <td>1</td>\n",
       "      <td>1</td>\n",
       "      <td>Three Colors: Red (Trois couleurs: Rouge)</td>\n",
       "      <td>Drama</td>\n",
       "      <td>4.072967</td>\n",
       "      <td>1994</td>\n",
       "    </tr>\n",
       "    <tr>\n",
       "      <th>4</th>\n",
       "      <td>4</td>\n",
       "      <td>1</td>\n",
       "      <td>Singin' in the Rain</td>\n",
       "      <td>Comedy|Musical|Romance</td>\n",
       "      <td>4.050987</td>\n",
       "      <td>1952</td>\n",
       "    </tr>\n",
       "    <tr>\n",
       "      <th>7</th>\n",
       "      <td>7</td>\n",
       "      <td>1</td>\n",
       "      <td>Ran</td>\n",
       "      <td>Drama|War</td>\n",
       "      <td>4.142050</td>\n",
       "      <td>1985</td>\n",
       "    </tr>\n",
       "    <tr>\n",
       "      <th>8</th>\n",
       "      <td>8</td>\n",
       "      <td>1</td>\n",
       "      <td>Seventh Seal, The (Sjunde inseglet, Det)</td>\n",
       "      <td>Drama</td>\n",
       "      <td>4.093324</td>\n",
       "      <td>1957</td>\n",
       "    </tr>\n",
       "  </tbody>\n",
       "</table>\n",
       "</div>"
      ],
      "text/plain": [
       "   Unnamed: 0  User_Id                                 Movie_Name  \\\n",
       "0           0        1                               Pulp Fiction   \n",
       "1           1        1  Three Colors: Red (Trois couleurs: Rouge)   \n",
       "4           4        1                        Singin' in the Rain   \n",
       "7           7        1                                        Ran   \n",
       "8           8        1   Seventh Seal, The (Sjunde inseglet, Det)   \n",
       "\n",
       "                         Genre  average_rating  year  \n",
       "0  Comedy|Crime|Drama|Thriller        4.188912  1994  \n",
       "1                        Drama        4.072967  1994  \n",
       "4       Comedy|Musical|Romance        4.050987  1952  \n",
       "7                    Drama|War        4.142050  1985  \n",
       "8                        Drama        4.093324  1957  "
      ]
     },
     "execution_count": 14,
     "metadata": {},
     "output_type": "execute_result"
    }
   ],
   "source": [
    "high_rating_movies[\"year\"] = high_rating_movies[\"Movie_Name\"].str[-5:-1]\n",
    "high_rating_movies[\"Movie_Name\"] = high_rating_movies[\"Movie_Name\"].str[:-7]\n",
    "high_rating_movies.head()"
   ]
  },
  {
   "cell_type": "code",
   "execution_count": 15,
   "metadata": {},
   "outputs": [
    {
     "name": "stderr",
     "output_type": "stream",
     "text": [
      "C:\\Users\\Acer\\Anaconda3\\lib\\site-packages\\ipykernel_launcher.py:1: SettingWithCopyWarning: \n",
      "A value is trying to be set on a copy of a slice from a DataFrame.\n",
      "Try using .loc[row_indexer,col_indexer] = value instead\n",
      "\n",
      "See the caveats in the documentation: https://pandas.pydata.org/pandas-docs/stable/user_guide/indexing.html#returning-a-view-versus-a-copy\n",
      "  \"\"\"Entry point for launching an IPython kernel.\n"
     ]
    },
    {
     "data": {
      "text/plain": [
       "(686113, 6)"
      ]
     },
     "execution_count": 15,
     "metadata": {},
     "output_type": "execute_result"
    }
   ],
   "source": [
    "high_rating_movies['year'] = high_rating_movies['year'].astype(int)\n",
    "year2000=high_rating_movies[high_rating_movies['year']>2000]\n",
    "year2000.shape"
   ]
  },
  {
   "cell_type": "code",
   "execution_count": 16,
   "metadata": {},
   "outputs": [
    {
     "data": {
      "text/plain": [
       "count    686113.000000\n",
       "mean       2006.599643\n",
       "std           4.872387\n",
       "min        2001.000000\n",
       "25%        2002.000000\n",
       "50%        2006.000000\n",
       "75%        2010.000000\n",
       "max        2018.000000\n",
       "Name: year, dtype: float64"
      ]
     },
     "execution_count": 16,
     "metadata": {},
     "output_type": "execute_result"
    }
   ],
   "source": [
    "year2000['year'].describe()"
   ]
  },
  {
   "cell_type": "code",
   "execution_count": 17,
   "metadata": {},
   "outputs": [
    {
     "name": "stderr",
     "output_type": "stream",
     "text": [
      "C:\\Users\\Acer\\Anaconda3\\lib\\site-packages\\ipykernel_launcher.py:1: SettingWithCopyWarning: \n",
      "A value is trying to be set on a copy of a slice from a DataFrame.\n",
      "Try using .loc[row_indexer,col_indexer] = value instead\n",
      "\n",
      "See the caveats in the documentation: https://pandas.pydata.org/pandas-docs/stable/user_guide/indexing.html#returning-a-view-versus-a-copy\n",
      "  \"\"\"Entry point for launching an IPython kernel.\n"
     ]
    },
    {
     "data": {
      "text/html": [
       "<div>\n",
       "<style scoped>\n",
       "    .dataframe tbody tr th:only-of-type {\n",
       "        vertical-align: middle;\n",
       "    }\n",
       "\n",
       "    .dataframe tbody tr th {\n",
       "        vertical-align: top;\n",
       "    }\n",
       "\n",
       "    .dataframe thead th {\n",
       "        text-align: right;\n",
       "    }\n",
       "</style>\n",
       "<table border=\"1\" class=\"dataframe\">\n",
       "  <thead>\n",
       "    <tr style=\"text-align: right;\">\n",
       "      <th></th>\n",
       "      <th>Unnamed: 0</th>\n",
       "      <th>User_Id</th>\n",
       "      <th>Movie_Name</th>\n",
       "      <th>Genre</th>\n",
       "      <th>average_rating</th>\n",
       "      <th>year</th>\n",
       "    </tr>\n",
       "  </thead>\n",
       "  <tbody>\n",
       "    <tr>\n",
       "      <th>24</th>\n",
       "      <td>29</td>\n",
       "      <td>1</td>\n",
       "      <td>Amelie (Fabuleux destin d'Amélie Poulain, Le)</td>\n",
       "      <td>[Comedy, Romance]</td>\n",
       "      <td>4.101282</td>\n",
       "      <td>2001</td>\n",
       "    </tr>\n",
       "    <tr>\n",
       "      <th>28</th>\n",
       "      <td>36</td>\n",
       "      <td>1</td>\n",
       "      <td>Lord of the Rings: The Two Towers, The</td>\n",
       "      <td>[Adventure, Fantasy]</td>\n",
       "      <td>4.068051</td>\n",
       "      <td>2002</td>\n",
       "    </tr>\n",
       "    <tr>\n",
       "      <th>29</th>\n",
       "      <td>37</td>\n",
       "      <td>1</td>\n",
       "      <td>City of God (Cidade de Deus)</td>\n",
       "      <td>[Action, Adventure, Crime, Drama, Thriller]</td>\n",
       "      <td>4.181587</td>\n",
       "      <td>2002</td>\n",
       "    </tr>\n",
       "    <tr>\n",
       "      <th>39</th>\n",
       "      <td>48</td>\n",
       "      <td>1</td>\n",
       "      <td>Eternal Sunshine of the Spotless Mind</td>\n",
       "      <td>[Drama, Romance, Sci-Fi]</td>\n",
       "      <td>4.066351</td>\n",
       "      <td>2004</td>\n",
       "    </tr>\n",
       "    <tr>\n",
       "      <th>179</th>\n",
       "      <td>203</td>\n",
       "      <td>2</td>\n",
       "      <td>Lord of the Rings: The Fellowship of the Ring,...</td>\n",
       "      <td>[Adventure, Fantasy]</td>\n",
       "      <td>4.091189</td>\n",
       "      <td>2001</td>\n",
       "    </tr>\n",
       "  </tbody>\n",
       "</table>\n",
       "</div>"
      ],
      "text/plain": [
       "     Unnamed: 0  User_Id                                         Movie_Name  \\\n",
       "24           29        1      Amelie (Fabuleux destin d'Amélie Poulain, Le)   \n",
       "28           36        1             Lord of the Rings: The Two Towers, The   \n",
       "29           37        1                       City of God (Cidade de Deus)   \n",
       "39           48        1              Eternal Sunshine of the Spotless Mind   \n",
       "179         203        2  Lord of the Rings: The Fellowship of the Ring,...   \n",
       "\n",
       "                                           Genre  average_rating  year  \n",
       "24                             [Comedy, Romance]        4.101282  2001  \n",
       "28                          [Adventure, Fantasy]        4.068051  2002  \n",
       "29   [Action, Adventure, Crime, Drama, Thriller]        4.181587  2002  \n",
       "39                      [Drama, Romance, Sci-Fi]        4.066351  2004  \n",
       "179                         [Adventure, Fantasy]        4.091189  2001  "
      ]
     },
     "execution_count": 17,
     "metadata": {},
     "output_type": "execute_result"
    }
   ],
   "source": [
    "year2000['Genre']=year2000['Genre'].str.split('|')\n",
    "year2000.head()"
   ]
  },
  {
   "cell_type": "code",
   "execution_count": 18,
   "metadata": {},
   "outputs": [
    {
     "data": {
      "text/html": [
       "<div>\n",
       "<style scoped>\n",
       "    .dataframe tbody tr th:only-of-type {\n",
       "        vertical-align: middle;\n",
       "    }\n",
       "\n",
       "    .dataframe tbody tr th {\n",
       "        vertical-align: top;\n",
       "    }\n",
       "\n",
       "    .dataframe thead th {\n",
       "        text-align: right;\n",
       "    }\n",
       "</style>\n",
       "<table border=\"1\" class=\"dataframe\">\n",
       "  <thead>\n",
       "    <tr style=\"text-align: right;\">\n",
       "      <th></th>\n",
       "      <th>User_Id</th>\n",
       "      <th>Movie_Name</th>\n",
       "      <th>Genre</th>\n",
       "      <th>average_rating</th>\n",
       "      <th>year</th>\n",
       "    </tr>\n",
       "  </thead>\n",
       "  <tbody>\n",
       "    <tr>\n",
       "      <th>24</th>\n",
       "      <td>1</td>\n",
       "      <td>Amelie (Fabuleux destin d'Amélie Poulain, Le)</td>\n",
       "      <td>[Comedy, Romance]</td>\n",
       "      <td>4.101282</td>\n",
       "      <td>2001</td>\n",
       "    </tr>\n",
       "    <tr>\n",
       "      <th>28</th>\n",
       "      <td>1</td>\n",
       "      <td>Lord of the Rings: The Two Towers, The</td>\n",
       "      <td>[Adventure, Fantasy]</td>\n",
       "      <td>4.068051</td>\n",
       "      <td>2002</td>\n",
       "    </tr>\n",
       "    <tr>\n",
       "      <th>29</th>\n",
       "      <td>1</td>\n",
       "      <td>City of God (Cidade de Deus)</td>\n",
       "      <td>[Action, Adventure, Crime, Drama, Thriller]</td>\n",
       "      <td>4.181587</td>\n",
       "      <td>2002</td>\n",
       "    </tr>\n",
       "    <tr>\n",
       "      <th>39</th>\n",
       "      <td>1</td>\n",
       "      <td>Eternal Sunshine of the Spotless Mind</td>\n",
       "      <td>[Drama, Romance, Sci-Fi]</td>\n",
       "      <td>4.066351</td>\n",
       "      <td>2004</td>\n",
       "    </tr>\n",
       "    <tr>\n",
       "      <th>179</th>\n",
       "      <td>2</td>\n",
       "      <td>Lord of the Rings: The Fellowship of the Ring,...</td>\n",
       "      <td>[Adventure, Fantasy]</td>\n",
       "      <td>4.091189</td>\n",
       "      <td>2001</td>\n",
       "    </tr>\n",
       "  </tbody>\n",
       "</table>\n",
       "</div>"
      ],
      "text/plain": [
       "     User_Id                                         Movie_Name  \\\n",
       "24         1      Amelie (Fabuleux destin d'Amélie Poulain, Le)   \n",
       "28         1             Lord of the Rings: The Two Towers, The   \n",
       "29         1                       City of God (Cidade de Deus)   \n",
       "39         1              Eternal Sunshine of the Spotless Mind   \n",
       "179        2  Lord of the Rings: The Fellowship of the Ring,...   \n",
       "\n",
       "                                           Genre  average_rating  year  \n",
       "24                             [Comedy, Romance]        4.101282  2001  \n",
       "28                          [Adventure, Fantasy]        4.068051  2002  \n",
       "29   [Action, Adventure, Crime, Drama, Thriller]        4.181587  2002  \n",
       "39                      [Drama, Romance, Sci-Fi]        4.066351  2004  \n",
       "179                         [Adventure, Fantasy]        4.091189  2001  "
      ]
     },
     "execution_count": 18,
     "metadata": {},
     "output_type": "execute_result"
    }
   ],
   "source": [
    "year2000 = year2000.loc[:, ~year2000.columns.str.contains('^Unnamed')]\n",
    "year2000.head()"
   ]
  },
  {
   "cell_type": "code",
   "execution_count": 19,
   "metadata": {
    "scrolled": true
   },
   "outputs": [
    {
     "data": {
      "text/html": [
       "<div>\n",
       "<style scoped>\n",
       "    .dataframe tbody tr th:only-of-type {\n",
       "        vertical-align: middle;\n",
       "    }\n",
       "\n",
       "    .dataframe tbody tr th {\n",
       "        vertical-align: top;\n",
       "    }\n",
       "\n",
       "    .dataframe thead th {\n",
       "        text-align: right;\n",
       "    }\n",
       "</style>\n",
       "<table border=\"1\" class=\"dataframe\">\n",
       "  <thead>\n",
       "    <tr style=\"text-align: right;\">\n",
       "      <th></th>\n",
       "      <th>User_Id</th>\n",
       "      <th>Movie_Name</th>\n",
       "      <th>Genre</th>\n",
       "      <th>year</th>\n",
       "      <th>average_rating</th>\n",
       "    </tr>\n",
       "  </thead>\n",
       "  <tbody>\n",
       "    <tr>\n",
       "      <th>24</th>\n",
       "      <td>1</td>\n",
       "      <td>Amelie (Fabuleux destin d'Amélie Poulain, Le)</td>\n",
       "      <td>[Comedy, Romance]</td>\n",
       "      <td>2001</td>\n",
       "      <td>4.101282</td>\n",
       "    </tr>\n",
       "    <tr>\n",
       "      <th>28</th>\n",
       "      <td>1</td>\n",
       "      <td>Lord of the Rings: The Two Towers, The</td>\n",
       "      <td>[Adventure, Fantasy]</td>\n",
       "      <td>2002</td>\n",
       "      <td>4.068051</td>\n",
       "    </tr>\n",
       "    <tr>\n",
       "      <th>29</th>\n",
       "      <td>1</td>\n",
       "      <td>City of God (Cidade de Deus)</td>\n",
       "      <td>[Action, Adventure, Crime, Drama, Thriller]</td>\n",
       "      <td>2002</td>\n",
       "      <td>4.181587</td>\n",
       "    </tr>\n",
       "    <tr>\n",
       "      <th>39</th>\n",
       "      <td>1</td>\n",
       "      <td>Eternal Sunshine of the Spotless Mind</td>\n",
       "      <td>[Drama, Romance, Sci-Fi]</td>\n",
       "      <td>2004</td>\n",
       "      <td>4.066351</td>\n",
       "    </tr>\n",
       "    <tr>\n",
       "      <th>179</th>\n",
       "      <td>2</td>\n",
       "      <td>Lord of the Rings: The Fellowship of the Ring,...</td>\n",
       "      <td>[Adventure, Fantasy]</td>\n",
       "      <td>2001</td>\n",
       "      <td>4.091189</td>\n",
       "    </tr>\n",
       "  </tbody>\n",
       "</table>\n",
       "</div>"
      ],
      "text/plain": [
       "     User_Id                                         Movie_Name  \\\n",
       "24         1      Amelie (Fabuleux destin d'Amélie Poulain, Le)   \n",
       "28         1             Lord of the Rings: The Two Towers, The   \n",
       "29         1                       City of God (Cidade de Deus)   \n",
       "39         1              Eternal Sunshine of the Spotless Mind   \n",
       "179        2  Lord of the Rings: The Fellowship of the Ring,...   \n",
       "\n",
       "                                           Genre  year  average_rating  \n",
       "24                             [Comedy, Romance]  2001        4.101282  \n",
       "28                          [Adventure, Fantasy]  2002        4.068051  \n",
       "29   [Action, Adventure, Crime, Drama, Thriller]  2002        4.181587  \n",
       "39                      [Drama, Romance, Sci-Fi]  2004        4.066351  \n",
       "179                         [Adventure, Fantasy]  2001        4.091189  "
      ]
     },
     "execution_count": 19,
     "metadata": {},
     "output_type": "execute_result"
    }
   ],
   "source": [
    "df = pd.DataFrame(data = year2000)\n",
    "df = df.iloc[:,[0,1,2,4,3]]\n",
    "df.head()"
   ]
  },
  {
   "cell_type": "code",
   "execution_count": 20,
   "metadata": {},
   "outputs": [
    {
     "data": {
      "text/html": [
       "<div>\n",
       "<style scoped>\n",
       "    .dataframe tbody tr th:only-of-type {\n",
       "        vertical-align: middle;\n",
       "    }\n",
       "\n",
       "    .dataframe tbody tr th {\n",
       "        vertical-align: top;\n",
       "    }\n",
       "\n",
       "    .dataframe thead th {\n",
       "        text-align: right;\n",
       "    }\n",
       "</style>\n",
       "<table border=\"1\" class=\"dataframe\">\n",
       "  <thead>\n",
       "    <tr style=\"text-align: right;\">\n",
       "      <th></th>\n",
       "      <th>Movie_Name</th>\n",
       "      <th>Genre</th>\n",
       "      <th>year</th>\n",
       "      <th>average_rating</th>\n",
       "    </tr>\n",
       "  </thead>\n",
       "  <tbody>\n",
       "    <tr>\n",
       "      <th>24</th>\n",
       "      <td>Amelie (Fabuleux destin d'Amélie Poulain, Le)</td>\n",
       "      <td>[Comedy, Romance]</td>\n",
       "      <td>2001</td>\n",
       "      <td>4.101282</td>\n",
       "    </tr>\n",
       "    <tr>\n",
       "      <th>28</th>\n",
       "      <td>Lord of the Rings: The Two Towers, The</td>\n",
       "      <td>[Adventure, Fantasy]</td>\n",
       "      <td>2002</td>\n",
       "      <td>4.068051</td>\n",
       "    </tr>\n",
       "    <tr>\n",
       "      <th>29</th>\n",
       "      <td>City of God (Cidade de Deus)</td>\n",
       "      <td>[Action, Adventure, Crime, Drama, Thriller]</td>\n",
       "      <td>2002</td>\n",
       "      <td>4.181587</td>\n",
       "    </tr>\n",
       "    <tr>\n",
       "      <th>39</th>\n",
       "      <td>Eternal Sunshine of the Spotless Mind</td>\n",
       "      <td>[Drama, Romance, Sci-Fi]</td>\n",
       "      <td>2004</td>\n",
       "      <td>4.066351</td>\n",
       "    </tr>\n",
       "    <tr>\n",
       "      <th>179</th>\n",
       "      <td>Lord of the Rings: The Fellowship of the Ring,...</td>\n",
       "      <td>[Adventure, Fantasy]</td>\n",
       "      <td>2001</td>\n",
       "      <td>4.091189</td>\n",
       "    </tr>\n",
       "  </tbody>\n",
       "</table>\n",
       "</div>"
      ],
      "text/plain": [
       "                                            Movie_Name  \\\n",
       "24       Amelie (Fabuleux destin d'Amélie Poulain, Le)   \n",
       "28              Lord of the Rings: The Two Towers, The   \n",
       "29                        City of God (Cidade de Deus)   \n",
       "39               Eternal Sunshine of the Spotless Mind   \n",
       "179  Lord of the Rings: The Fellowship of the Ring,...   \n",
       "\n",
       "                                           Genre  year  average_rating  \n",
       "24                             [Comedy, Romance]  2001        4.101282  \n",
       "28                          [Adventure, Fantasy]  2002        4.068051  \n",
       "29   [Action, Adventure, Crime, Drama, Thriller]  2002        4.181587  \n",
       "39                      [Drama, Romance, Sci-Fi]  2004        4.066351  \n",
       "179                         [Adventure, Fantasy]  2001        4.091189  "
      ]
     },
     "execution_count": 20,
     "metadata": {},
     "output_type": "execute_result"
    }
   ],
   "source": [
    "del df['User_Id']\n",
    "df.head()"
   ]
  },
  {
   "cell_type": "code",
   "execution_count": 21,
   "metadata": {},
   "outputs": [
    {
     "data": {
      "text/html": [
       "<div>\n",
       "<style scoped>\n",
       "    .dataframe tbody tr th:only-of-type {\n",
       "        vertical-align: middle;\n",
       "    }\n",
       "\n",
       "    .dataframe tbody tr th {\n",
       "        vertical-align: top;\n",
       "    }\n",
       "\n",
       "    .dataframe thead th {\n",
       "        text-align: right;\n",
       "    }\n",
       "</style>\n",
       "<table border=\"1\" class=\"dataframe\">\n",
       "  <thead>\n",
       "    <tr style=\"text-align: right;\">\n",
       "      <th></th>\n",
       "      <th>Movie_Name</th>\n",
       "      <th>genre</th>\n",
       "      <th>year</th>\n",
       "      <th>average_rating</th>\n",
       "    </tr>\n",
       "  </thead>\n",
       "  <tbody>\n",
       "    <tr>\n",
       "      <th>24</th>\n",
       "      <td>Amelie (Fabuleux destin d'Amélie Poulain, Le)</td>\n",
       "      <td>[Comedy, Romance]</td>\n",
       "      <td>2001</td>\n",
       "      <td>4.101282</td>\n",
       "    </tr>\n",
       "    <tr>\n",
       "      <th>28</th>\n",
       "      <td>Lord of the Rings: The Two Towers, The</td>\n",
       "      <td>[Adventure, Fantasy]</td>\n",
       "      <td>2002</td>\n",
       "      <td>4.068051</td>\n",
       "    </tr>\n",
       "    <tr>\n",
       "      <th>29</th>\n",
       "      <td>City of God (Cidade de Deus)</td>\n",
       "      <td>[Action, Adventure, Crime, Drama, Thriller]</td>\n",
       "      <td>2002</td>\n",
       "      <td>4.181587</td>\n",
       "    </tr>\n",
       "    <tr>\n",
       "      <th>39</th>\n",
       "      <td>Eternal Sunshine of the Spotless Mind</td>\n",
       "      <td>[Drama, Romance, Sci-Fi]</td>\n",
       "      <td>2004</td>\n",
       "      <td>4.066351</td>\n",
       "    </tr>\n",
       "    <tr>\n",
       "      <th>179</th>\n",
       "      <td>Lord of the Rings: The Fellowship of the Ring,...</td>\n",
       "      <td>[Adventure, Fantasy]</td>\n",
       "      <td>2001</td>\n",
       "      <td>4.091189</td>\n",
       "    </tr>\n",
       "  </tbody>\n",
       "</table>\n",
       "</div>"
      ],
      "text/plain": [
       "                                            Movie_Name  \\\n",
       "24       Amelie (Fabuleux destin d'Amélie Poulain, Le)   \n",
       "28              Lord of the Rings: The Two Towers, The   \n",
       "29                        City of God (Cidade de Deus)   \n",
       "39               Eternal Sunshine of the Spotless Mind   \n",
       "179  Lord of the Rings: The Fellowship of the Ring,...   \n",
       "\n",
       "                                           genre  year  average_rating  \n",
       "24                             [Comedy, Romance]  2001        4.101282  \n",
       "28                          [Adventure, Fantasy]  2002        4.068051  \n",
       "29   [Action, Adventure, Crime, Drama, Thriller]  2002        4.181587  \n",
       "39                      [Drama, Romance, Sci-Fi]  2004        4.066351  \n",
       "179                         [Adventure, Fantasy]  2001        4.091189  "
      ]
     },
     "execution_count": 21,
     "metadata": {},
     "output_type": "execute_result"
    }
   ],
   "source": [
    "df=df.rename(columns={'Genre': 'genre'})\n",
    "df.head()"
   ]
  },
  {
   "cell_type": "code",
   "execution_count": 29,
   "metadata": {},
   "outputs": [
    {
     "data": {
      "text/plain": [
       "47"
      ]
     },
     "execution_count": 29,
     "metadata": {},
     "output_type": "execute_result"
    }
   ],
   "source": [
    "len(df['Movie_Name'].unique())"
   ]
  },
  {
   "cell_type": "code",
   "execution_count": 30,
   "metadata": {},
   "outputs": [],
   "source": [
    "df=df.drop_duplicates(subset=['Movie_Name'])"
   ]
  },
  {
   "cell_type": "code",
   "execution_count": 31,
   "metadata": {},
   "outputs": [
    {
     "data": {
      "text/plain": [
       "(47, 4)"
      ]
     },
     "execution_count": 31,
     "metadata": {},
     "output_type": "execute_result"
    }
   ],
   "source": [
    "df.shape"
   ]
  },
  {
   "cell_type": "markdown",
   "metadata": {},
   "source": [
    "### Converting to JSON"
   ]
  },
  {
   "cell_type": "code",
   "execution_count": 32,
   "metadata": {},
   "outputs": [],
   "source": [
    "import json\n",
    "# convert dataframe to list of dictionaries\n",
    "data = df.to_dict(orient='records')\n",
    "\n",
    "# create a new dictionary with first column as key and rest as values\n",
    "new_data = {}\n",
    "for row in data:\n",
    "    key = row.pop('Movie_Name') # remove 'name' column and use as key\n",
    "    new_data[key] = row # use remaining columns as values\n",
    "\n",
    "with open('data.json', 'w') as f:\n",
    "    json.dump(new_data, f)"
   ]
  },
  {
   "cell_type": "code",
   "execution_count": null,
   "metadata": {},
   "outputs": [],
   "source": []
  }
 ],
 "metadata": {
  "kernelspec": {
   "display_name": "Python 3",
   "language": "python",
   "name": "python3"
  },
  "language_info": {
   "codemirror_mode": {
    "name": "ipython",
    "version": 3
   },
   "file_extension": ".py",
   "mimetype": "text/x-python",
   "name": "python",
   "nbconvert_exporter": "python",
   "pygments_lexer": "ipython3",
   "version": "3.7.3"
  }
 },
 "nbformat": 4,
 "nbformat_minor": 2
}
